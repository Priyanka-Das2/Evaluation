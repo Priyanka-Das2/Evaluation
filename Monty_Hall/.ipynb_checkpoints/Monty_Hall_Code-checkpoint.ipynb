{
 "cells": [
  {
   "cell_type": "code",
   "execution_count": null,
   "metadata": {},
   "outputs": [],
   "source": []
  },
  {
   "cell_type": "code",
   "execution_count": null,
   "metadata": {},
   "outputs": [],
   "source": []
  },
  {
   "cell_type": "code",
   "execution_count": null,
   "metadata": {},
   "outputs": [],
   "source": []
  },
  {
   "cell_type": "code",
   "execution_count": null,
   "metadata": {},
   "outputs": [],
   "source": [
    "win"
   ]
  },
  {
   "cell_type": "code",
   "execution_count": null,
   "metadata": {},
   "outputs": [],
   "source": [
    "def Monty(choice, monty_stall):\n",
    "    del monty_stall[choice]\n",
    "    if 1 in monty_stall:\n",
    "        win = 1\n",
    "\n",
    "    return win\n",
    "wins = 0\n",
    "for i in range(100):\n",
    "    choice = random.randint(0,2)\n",
    "    monty_stall = [1,0,0]\n",
    "    wins = wins + Monty(choice,monty_stall)"
   ]
  },
  {
   "cell_type": "code",
   "execution_count": null,
   "metadata": {},
   "outputs": [],
   "source": [
    "\n"
   ]
  },
  {
   "cell_type": "code",
   "execution_count": null,
   "metadata": {},
   "outputs": [],
   "source": [
    "mystall = [0,1,1]\n",
    "mystall[realc]"
   ]
  },
  {
   "cell_type": "code",
   "execution_count": 8,
   "metadata": {},
   "outputs": [],
   "source": [
    "import random\n",
    "def Monty(choice, monty_stall=[1,0,0]):\n",
    "    del monty_stall[choice]\n",
    "    for i in monty_stall:\n",
    "        if (monty_stall[i] == 1):\n",
    "            return i\n",
    "choice =  random.randint(0,2)\n",
    "realc = Monty(choice)\n",
    "mystall = [1,0,0]\n",
    "mystall[]"
   ]
  },
  {
   "cell_type": "code",
   "execution_count": null,
   "metadata": {},
   "outputs": [],
   "source": []
  }
 ],
 "metadata": {
  "kernelspec": {
   "display_name": "Python 2",
   "language": "python",
   "name": "python2"
  },
  "language_info": {
   "codemirror_mode": {
    "name": "ipython",
    "version": 2
   },
   "file_extension": ".py",
   "mimetype": "text/x-python",
   "name": "python",
   "nbconvert_exporter": "python",
   "pygments_lexer": "ipython2",
   "version": "2.7.12"
  }
 },
 "nbformat": 4,
 "nbformat_minor": 2
}
