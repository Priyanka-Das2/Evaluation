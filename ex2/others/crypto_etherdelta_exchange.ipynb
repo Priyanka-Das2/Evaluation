{
 "cells": [
  {
   "cell_type": "code",
   "execution_count": 31,
   "metadata": {},
   "outputs": [],
   "source": [
    "import json\n",
    "import pandas as pd\n",
    "fp = open(\"ed_tick_sample.json\")\n",
    "data = json.load(fp)\n",
    "pairs = data.keys()\n",
    "pair_iter = iter(pairs)\n"
   ]
  },
  {
   "cell_type": "code",
   "execution_count": 34,
   "metadata": {},
   "outputs": [
    {
     "data": {
      "text/plain": [
       "u'ETH_SUB'"
      ]
     },
     "execution_count": 34,
     "metadata": {},
     "output_type": "execute_result"
    }
   ],
   "source": [
    "pair = pair_iter.next()\n",
    "pair\n"
   ]
  },
  {
   "cell_type": "code",
   "execution_count": 35,
   "metadata": {},
   "outputs": [
    {
     "name": "stdout",
     "output_type": "stream",
     "text": [
      "{u'last': 0.000400004, u'quoteVolume': 68708.72, u'bid': 0.000400013, u'tokenAddr': u'0x12480e24eb5bec1a9d4369cab6a80cad3c0a377a', u'percentChange': 0, u'ask': 0.00043, u'baseVolume': 28.437}\n"
     ]
    }
   ],
   "source": [
    "pair_data = data[pair]\n",
    "pair_data.keys()\n",
    "print pair_data"
   ]
  },
  {
   "cell_type": "code",
   "execution_count": 45,
   "metadata": {},
   "outputs": [
    {
     "data": {
      "text/plain": [
       "ETH_0x003f             5e-09\n",
       "ETH_0x0171          6.49e-05\n",
       "ETH_0x02b6           6.1e-08\n",
       "ETH_0x0312         0.0039924\n",
       "ETH_0x03dc         1.212e-06\n",
       "ETH_0x08d3           2.5e-07\n",
       "ETH_0x08f8          0.000175\n",
       "ETH_0x0d2f        0.00047506\n",
       "ETH_0x0df2           7.5e-08\n",
       "ETH_0x0f06             1e-06\n",
       "ETH_0x0fa6             7e-05\n",
       "ETH_0x119b             5e-06\n",
       "ETH_0x11f8          2.95e-05\n",
       "ETH_0x1421           1.5e-05\n",
       "ETH_0x14d1              0.01\n",
       "ETH_0x14e4           1.4e-08\n",
       "ETH_0x1741             6e-07\n",
       "ETH_0x1b3b             2e-06\n",
       "ETH_0x1bb5          3.22e-06\n",
       "ETH_0x2416             0.015\n",
       "ETH_0x254e           8.6e-06\n",
       "ETH_0x26b0           1.2e-05\n",
       "ETH_0x2eb8        1.0903e-05\n",
       "ETH_0x2fc4         2.662e-06\n",
       "ETH_0x3076          6.89e-07\n",
       "ETH_0x3605          2.75e-06\n",
       "ETH_0x379e             7e-06\n",
       "ETH_0x37aa          1.06e-06\n",
       "ETH_0x38a2          1.01e-06\n",
       "ETH_0x39e5             1e-06\n",
       "                    ...     \n",
       "ETH_TRX              5.9e-06\n",
       "ETH_UETL             1.2e-05\n",
       "ETH_UFR           0.00012009\n",
       "ETH_UKG           0.00033999\n",
       "ETH_UMC             1.11e-05\n",
       "ETH_VEN              0.00073\n",
       "ETH_VERI            0.277116\n",
       "ETH_VIB              0.00036\n",
       "ETH_VIBE          9.4691e-05\n",
       "ETH_VIU           1.2531e-05\n",
       "ETH_VOISE         2.0021e-05\n",
       "ETH_WIC             8.25e-06\n",
       "ETH_WILD         0.000274499\n",
       "ETH_WND             9.99e-07\n",
       "ETH_WRC            0.0001888\n",
       "ETH_WTC            0.0141001\n",
       "ETH_WTT               0.0042\n",
       "ETH_XAI          0.000112233\n",
       "ETH_XAUR             0.00255\n",
       "ETH_XBL             0.000496\n",
       "ETH_XNN              3.5e-05\n",
       "ETH_XPA                7e-05\n",
       "ETH_XRL          0.000468132\n",
       "ETH_XUC              0.00611\n",
       "ETH_YEL           1.6999e-05\n",
       "ETH_YESTERDAY        0.00065\n",
       "ETH_ZAP               0.0004\n",
       "ETH_ZCG              6.2e-05\n",
       "ETH_ZRX            0.0005698\n",
       "ETH_ZSC              0.00019\n",
       "Name: last, Length: 483, dtype: object"
      ]
     },
     "execution_count": 45,
     "metadata": {},
     "output_type": "execute_result"
    }
   ],
   "source": [
    "trade_data = pd.DataFrame(data)\n",
    "\n",
    "trade_data = trade_data.transpose()\n",
    "trade_data = trade_data['last']\n",
    "trade_data"
   ]
  },
  {
   "cell_type": "code",
   "execution_count": null,
   "metadata": {},
   "outputs": [],
   "source": []
  }
 ],
 "metadata": {
  "kernelspec": {
   "display_name": "Python 2",
   "language": "python",
   "name": "python2"
  },
  "language_info": {
   "codemirror_mode": {
    "name": "ipython",
    "version": 2
   },
   "file_extension": ".py",
   "mimetype": "text/x-python",
   "name": "python",
   "nbconvert_exporter": "python",
   "pygments_lexer": "ipython2",
   "version": "2.7.12"
  }
 },
 "nbformat": 4,
 "nbformat_minor": 2
}
