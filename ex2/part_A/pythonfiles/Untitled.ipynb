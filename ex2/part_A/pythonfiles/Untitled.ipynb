{
 "cells": [
  {
   "cell_type": "code",
   "execution_count": 3,
   "metadata": {},
   "outputs": [],
   "source": [
    "import pandas as pd\n",
    "def  crypto(file , COIN ):\n",
    "    d =  pd.read_csv(file)\n",
    "    d1 = d[['Source','Volume (24h)','Pair']]\n",
    "    modified = d[['Source','Volume (24h)','Pair']]\n",
    "    mod1 = modified.groupby(['Source']).agg({'Volume (24h)': \"sum\"})\n",
    "    mod2 = mod1.sort_values(by=['Volume (24h)'], ascending = False)\n",
    "    mod2.head(10).to_html('largest_exchanges_wrt_turnover.html')\n",
    "    mod3 = mod1.sort_values(by=['Volume (24h)'], ascending = True)\n",
    "    mod3.head(10).to_html('cheapest_exchanges_wrt_turnover.html')\n",
    "    mod4 = d[['Pair','Price']]\n",
    "    mod5 = mod4.groupby(['Pair']).agg({'Price': \"mean\"})\n",
    "    dc = d.groupby('Pair').agg({'Volume (24h)':\"sum\"})\n",
    "    dn = dc.sort_values('Volume (24h)', ascending = False).head(5)\n",
    "    dn.to_html('most_traded_pairs_turnover.html')\n",
    "    dm = dc.sort_values('Volume (24h)', ascending = True).head(5)\n",
    "    dm.to_html('least_traded_pair_turnover.html')\n",
    "    mod6 = pd.DataFrame(d.Pair.value_counts())\n",
    "    mod7 = mod6.rename(columns = {'Pair' : 'No_of_exchanges'})\n",
    "    mod7.index.name = 'Pair'\n",
    "    mod7.head(10).to_html('most_traded_pairs_wrt_exchanges.html')\n",
    "    mod7 = mod7.where(mod7['No_of_exchanges']< 4)\n",
    "    mod7.sort_values('No_of_exchanges').dropna().to_html('least_traded_pairs_wrt_exchanges.html')\n",
    "    mod8 = pd.DataFrame(d.Source.value_counts())\n",
    "    mod9 = mod8.rename(columns = {'Source' : 'No_of_traded_pairs'})\n",
    "    mod9.index.name = 'Source'\n",
    "    mod9.head(10).to_html('top10_exchanges_wrt_traded_pairs.html')\n",
    "    mod10  = mod9.where(mod9['No_of_traded_pairs'] < 4)\n",
    "    mod10.sort_values('No_of_traded_pairs').dropna().to_html('bottom_exchanges_wrt_traded_pairs.html')\n",
    "    s = []\n",
    "    r = []\n",
    "    for i in d['Pair']:\n",
    "        s.append((i.split('/'))[1])\n",
    "        r.append((i.split('/'))[0])\n",
    "    m = pd.DataFrame(s)     \n",
    "    m['price'] = d['Price']\n",
    "    m['1'] = r\n",
    "    m['exchange'] = d['Source']\n",
    "    m['pair'] = d['Pair']\n",
    "    grouped = m.groupby([0]).agg({'price': \"mean\"})\n",
    "    grouped = grouped.reset_index()\n",
    "    grouped['coin'] = grouped[0]\n",
    "    grouped = grouped[['coin','price']]\n",
    "    grouped = grouped.set_index('coin')\n",
    "    grouped = grouped.drop([COIN])\n",
    "    grouped  = grouped.sort_values('price', ascending = False)\n",
    "    grouped1 = m.groupby(['1']).agg({'price': \"mean\"})\n",
    "    grouped1 = grouped1.drop([COIN])\n",
    "    grouped1  = grouped1.sort_values('price', ascending = False)\n",
    "    group = pd.concat([grouped, grouped1], axis=0)\n",
    "    g1 = group.sort_values('price', ascending = False).head(10)\n",
    "    g2 = group.sort_values('price').head(10)\n",
    "    g1.to_html('expensive_cross_coins.html')\n",
    "    g2.to_html('cheap_cross_coins.html')\n",
    "crypto('bitcoin-cross-new.csv','BTC')\n"
   ]
  },
  {
   "cell_type": "code",
   "execution_count": null,
   "metadata": {},
   "outputs": [],
   "source": []
  }
 ],
 "metadata": {
  "kernelspec": {
   "display_name": "Python 2",
   "language": "python",
   "name": "python2"
  },
  "language_info": {
   "codemirror_mode": {
    "name": "ipython",
    "version": 2
   },
   "file_extension": ".py",
   "mimetype": "text/x-python",
   "name": "python",
   "nbconvert_exporter": "python",
   "pygments_lexer": "ipython2",
   "version": "2.7.12"
  }
 },
 "nbformat": 4,
 "nbformat_minor": 2
}
