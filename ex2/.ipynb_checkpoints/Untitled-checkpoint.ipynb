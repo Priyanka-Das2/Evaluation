{
 "cells": [
  {
   "cell_type": "code",
   "execution_count": 4,
   "metadata": {},
   "outputs": [],
   "source": [
    "import pandas as pd\n",
    "\n",
    "d =  pd.read_csv('bitcoin-cross-new.csv')\n",
    "d1 = d[['Source','Volume (24h)','Pair']]\n",
    "d2 = d1.groupby(['Source']).agg({'Volume (24h)': \"sum\"})\n",
    "d3 = d2.sort_values(by=['Volume (24h)'], ascending = False).head(10)\n",
    "\n",
    "d4 = d[['Pair','Price']]\n",
    "d5 = d4.groupby(['Pair']).agg({'Price': \"mean\"})\n",
    "d6 = d5.sort_values(by=['Price'], ascending = True).head(10)\n",
    "d7 = d5.sort_values(by=['Price'], ascending = False).head(10)\n",
    "d7.to_csv('expensive_pair.csv')"
   ]
  },
  {
   "cell_type": "code",
   "execution_count": 6,
   "metadata": {},
   "outputs": [
    {
     "data": {
      "text/html": [
       "<div>\n",
       "<style scoped>\n",
       "    .dataframe tbody tr th:only-of-type {\n",
       "        vertical-align: middle;\n",
       "    }\n",
       "\n",
       "    .dataframe tbody tr th {\n",
       "        vertical-align: top;\n",
       "    }\n",
       "\n",
       "    .dataframe thead th {\n",
       "        text-align: right;\n",
       "    }\n",
       "</style>\n",
       "<table border=\"1\" class=\"dataframe\">\n",
       "  <thead>\n",
       "    <tr style=\"text-align: right;\">\n",
       "      <th></th>\n",
       "      <th>Volume (24h)</th>\n",
       "      <th>Pair</th>\n",
       "    </tr>\n",
       "    <tr>\n",
       "      <th>Pair</th>\n",
       "      <th></th>\n",
       "      <th></th>\n",
       "    </tr>\n",
       "  </thead>\n",
       "  <tbody>\n",
       "    <tr>\n",
       "      <th>ZRX/BTC</th>\n",
       "      <td>427741</td>\n",
       "      <td>ZRX/BTC</td>\n",
       "    </tr>\n",
       "    <tr>\n",
       "      <th>ZEN/BTC</th>\n",
       "      <td>207108</td>\n",
       "      <td>ZEN/BTC</td>\n",
       "    </tr>\n",
       "    <tr>\n",
       "      <th>ZEC/BTC</th>\n",
       "      <td>12986651</td>\n",
       "      <td>ZEC/BTC</td>\n",
       "    </tr>\n",
       "    <tr>\n",
       "      <th>XZC/BTC</th>\n",
       "      <td>417559</td>\n",
       "      <td>XZC/BTC</td>\n",
       "    </tr>\n",
       "    <tr>\n",
       "      <th>XVG/BTC</th>\n",
       "      <td>1461887</td>\n",
       "      <td>XVG/BTC</td>\n",
       "    </tr>\n",
       "  </tbody>\n",
       "</table>\n",
       "</div>"
      ],
      "text/plain": [
       "         Volume (24h)     Pair\n",
       "Pair                          \n",
       "ZRX/BTC        427741  ZRX/BTC\n",
       "ZEN/BTC        207108  ZEN/BTC\n",
       "ZEC/BTC      12986651  ZEC/BTC\n",
       "XZC/BTC        417559  XZC/BTC\n",
       "XVG/BTC       1461887  XVG/BTC"
      ]
     },
     "execution_count": 6,
     "metadata": {},
     "output_type": "execute_result"
    }
   ],
   "source": [
    "dc = d.groupby('Pair').agg({'Volume (24h)':\"sum\"})\n",
    "dn = dc.sort_values('Pair', ascending = False).head(5)\n",
    "dn.to_csv('most_traded_pairs.csv')\n",
    "dn"
   ]
  },
  {
   "cell_type": "code",
   "execution_count": null,
   "metadata": {},
   "outputs": [],
   "source": []
  }
 ],
 "metadata": {
  "kernelspec": {
   "display_name": "Python 2",
   "language": "python",
   "name": "python2"
  },
  "language_info": {
   "codemirror_mode": {
    "name": "ipython",
    "version": 2
   },
   "file_extension": ".py",
   "mimetype": "text/x-python",
   "name": "python",
   "nbconvert_exporter": "python",
   "pygments_lexer": "ipython2",
   "version": "2.7.12"
  }
 },
 "nbformat": 4,
 "nbformat_minor": 2
}
