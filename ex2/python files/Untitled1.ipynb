{
 "cells": [
  {
   "cell_type": "code",
   "execution_count": 6,
   "metadata": {},
   "outputs": [],
   "source": [
    "import pandas as pd\n",
    "\n",
    "d =  pd.read_csv('bitcoin-cross-new.csv')\n",
    "d1 = d[['Source','Volume (24h)','Pair']]\n",
    "d2 = d1.groupby(['Source']).agg({'Volume (24h)': \"sum\"})\n",
    "d3 = d2.sort_values(by=['Volume (24h)'], ascending = False).head(10)\n",
    "\n",
    "d3.to_csv('largest_exchanges_wrt_turnover.html')\n",
    "d8 = d2.sort_values(by=['Volume (24h)'], ascending = True).head(10)\n",
    "d8.to_html('cheapest_exchanges_wrt_turnover.html')\n",
    "d4 = d[['Pair','Price']]\n",
    "d5 = d4.groupby(['Pair']).agg({'Price': \"mean\"})\n",
    "d6 = d5.sort_values(by=['Price'], ascending = True).head(10)\n",
    "d6.to_html('cheap_pairs_(price).html')\n",
    "d7 = d5.sort_values(by=['Price'], ascending = False).head(10)\n",
    "d7.to_html('expensive_pairs_(price).html')\n",
    "dc = d.groupby('Pair').agg({'Volume (24h)':\"sum\"})\n",
    "dn = dc.sort_values('Volume (24h)', ascending = False).head(5)\n",
    "dn.to_html('most_traded_pairs_turnover.html')\n",
    "dm = dc.sort_values('Volume (24h)', ascending = True).head(5)\n",
    "dm.to_html('least_traded_pair_turnover.html')\n",
    "d10 = pd.DataFrame(d.Pair.value_counts())\n",
    "d11 = d10.rename(columns = {'Pair' : 'No_of_traded_pair'})\n",
    "d11.index.name = 'Pair'\n",
    "d11.head(10).to_html('most_traded_pairs_wrt_exchanges.html')\n",
    "d11.tail(10).to_html('least_traded_pairs_wrt_exchanges.html')\n",
    "d12 = pd.DataFrame(d.Source.value_counts())\n",
    "d13 = d12.rename(columns = {'Source' : 'No_of_traded_pair'})\n",
    "d13.index.name = 'Source'\n",
    "d13.head(10).to_csv('top10_exchanges_wrt_traded_pairs.csv')\n",
    "d13.tail(10).to_csv('bottom10_exchanges_wrt_traded_pairs.csv')\n",
    " \n"
   ]
  },
  {
   "cell_type": "code",
   "execution_count": 7,
   "metadata": {},
   "outputs": [],
   "source": [
    "d13.head(10).to_csv('top10_exchanges_wrt_traded_pairs.csv')"
   ]
  },
  {
   "cell_type": "code",
   "execution_count": null,
   "metadata": {},
   "outputs": [],
   "source": []
  }
 ],
 "metadata": {
  "kernelspec": {
   "display_name": "Python 2",
   "language": "python",
   "name": "python2"
  },
  "language_info": {
   "codemirror_mode": {
    "name": "ipython",
    "version": 2
   },
   "file_extension": ".py",
   "mimetype": "text/x-python",
   "name": "python",
   "nbconvert_exporter": "python",
   "pygments_lexer": "ipython2",
   "version": "2.7.12"
  }
 },
 "nbformat": 4,
 "nbformat_minor": 2
}
