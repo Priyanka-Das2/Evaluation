{
 "cells": [
  {
   "cell_type": "code",
   "execution_count": 13,
   "metadata": {},
   "outputs": [],
   "source": [
    "import pandas as pd\n",
    "\n",
    "d =  pd.read_csv('bitcoin-cross-new.csv')\n",
    "d1 = d[['Source','Volume (24h)','Pair']]\n",
    "d2 = d1.groupby(['Source']).agg({'Volume (24h)': \"sum\"})\n",
    "d3 = d2.sort_values(by=['Volume (24h)'], ascending = False).head(10)\n",
    "d8 = d2.sort_values(by=['Volume (24h)'], ascending = True).head(10)\n",
    "d4 = d[['Pair','Price']]\n",
    "d5 = d4.groupby(['Pair']).agg({'Price': \"mean\"})\n",
    "d6 = d5.sort_values(by=['Price'], ascending = True).head(10)\n",
    "d7 = d5.sort_values(by=['Price'], ascending = False).head(10)\n",
    "d7.to_csv('expensive_pair.csv')\n",
    "d8.to_csv('cheapest_exchanges.csv')"
   ]
  },
  {
   "cell_type": "code",
   "execution_count": 21,
   "metadata": {},
   "outputs": [],
   "source": [
    "dc = d.groupby('Pair').agg({'Volume (24h)':\"sum\"})\n",
    "dn = dc.sort_values('Volume (24h)', ascending = False).head(5)\n",
    "dm = dc.sort_values('Volume (24h)', ascending = True).head(5)\n",
    "dm.to_csv('least_traded_pair.csv')"
   ]
  },
  {
   "cell_type": "code",
   "execution_count": null,
   "metadata": {},
   "outputs": [],
   "source": []
  }
 ],
 "metadata": {
  "kernelspec": {
   "display_name": "Python 2",
   "language": "python",
   "name": "python2"
  },
  "language_info": {
   "codemirror_mode": {
    "name": "ipython",
    "version": 2
   },
   "file_extension": ".py",
   "mimetype": "text/x-python",
   "name": "python",
   "nbconvert_exporter": "python",
   "pygments_lexer": "ipython2",
   "version": "2.7.12"
  }
 },
 "nbformat": 4,
 "nbformat_minor": 2
}
